{
 "cells": [
  {
   "cell_type": "markdown",
   "metadata": {},
   "source": [
    "![](https://camo.githubusercontent.com/7e60cef1bb1a2ac4b7b2457c9a13a6ef22ff59e1/68747470733a2f2f7773312e73696e61696d672e636e2f6c617267652f303036744e6337396c7931666d70766a37667864316a333076623065797a71662e6a7067)"
   ]
  },
  {
   "cell_type": "code",
   "execution_count": 1,
   "metadata": {},
   "outputs": [],
   "source": [
    "import torch\n",
    "import numpy as np\n",
    "from torch import nn\n",
    "from torch.autograd import Variable\n",
    "from torchvision.datasets import CIFAR10"
   ]
  },
  {
   "cell_type": "code",
   "execution_count": 2,
   "metadata": {},
   "outputs": [],
   "source": [
    "def conv_block(in_channel, out_channel):\n",
    "    layer = nn.Sequential(\n",
    "        nn.BatchNorm2d(in_channel),\n",
    "        nn.ReLU(True),\n",
    "        nn.Conv2d(in_channel, out_channel, 3, padding=1, bias=False)\n",
    "    )\n",
    "    return layer"
   ]
  },
  {
   "cell_type": "code",
   "execution_count": 3,
   "metadata": {},
   "outputs": [],
   "source": [
    "class DenseBlock(nn.Module):\n",
    "    def __init__(self, in_channel, growth_rate, num_layers):\n",
    "        super(DenseBlock, self).__init__()\n",
    "        block = []\n",
    "        channel = in_channel\n",
    "        for i in range(num_layers):\n",
    "            block.append(conv_block(channel, growth_rate))\n",
    "            channel += growth_rate\n",
    "        \n",
    "        self.net = nn.Sequential(*block)\n",
    "    \n",
    "    def forward(self, x):\n",
    "        for layer in self.net:\n",
    "            out = layer(x)\n",
    "            x = torch.cat((out, x), dim=1)\n",
    "        return x"
   ]
  },
  {
   "cell_type": "code",
   "execution_count": 4,
   "metadata": {},
   "outputs": [
    {
     "name": "stdout",
     "output_type": "stream",
     "text": [
      "input shape: 3 x 96 x 96\n",
      "output shape: 39 x 96 x 96\n"
     ]
    }
   ],
   "source": [
    "test_net = DenseBlock(3, 12, 3)\n",
    "test_x = Variable(torch.zeros(1, 3, 96, 96))\n",
    "print(\"input shape: {} x {} x {}\".format(test_x.shape[1], test_x.shape[2], test_x.shape[3]))\n",
    "test_y = test_net(test_x)\n",
    "print(\"output shape: {} x {} x {}\".format(test_y.shape[1], test_y.shape[2], test_y.shape[3]))"
   ]
  },
  {
   "cell_type": "code",
   "execution_count": 5,
   "metadata": {},
   "outputs": [],
   "source": [
    "def transition(in_channel, out_channel):\n",
    "    trans_layer = nn.Sequential(\n",
    "        nn.BatchNorm2d(in_channel),\n",
    "        nn.ReLU(True),\n",
    "        nn.Conv2d(in_channel, out_channel, 1),\n",
    "        nn.AvgPool2d(2, 2)\n",
    "    )\n",
    "    return trans_layer"
   ]
  },
  {
   "cell_type": "code",
   "execution_count": 6,
   "metadata": {},
   "outputs": [
    {
     "name": "stdout",
     "output_type": "stream",
     "text": [
      "input shape: 3 x 96 x 96\n",
      "output shape: 12 x 48 x 48\n"
     ]
    }
   ],
   "source": [
    "test_net = transition(3, 12)\n",
    "test_x = Variable(torch.zeros(1, 3, 96, 96))\n",
    "print(\"input shape: {} x {} x {}\".format(test_x.shape[1], test_x.shape[2], test_x.shape[3]))\n",
    "test_y = test_net(test_x)\n",
    "print(\"output shape: {} x {} x {}\".format(test_y.shape[1], test_y.shape[2], test_y.shape[3]))"
   ]
  },
  {
   "cell_type": "code",
   "execution_count": 7,
   "metadata": {},
   "outputs": [],
   "source": [
    "# 定义 DenseNet\n",
    "class DenseNet(nn.Module):\n",
    "    def __init__(self, in_channel, num_classes, growth_rate=32, block_layers=[6, 12, 24, 16]):\n",
    "        super(DenseNet, self).__init__()\n",
    "        self.block1 = nn.Sequential(\n",
    "            nn.Conv2d(in_channel, 64, 7, 2, 3),\n",
    "            nn.BatchNorm2d(64),\n",
    "            nn.ReLU(True),\n",
    "            nn.MaxPool2d(3, 2, padding=1)\n",
    "        )\n",
    "\n",
    "        channels = 64\n",
    "        block = []\n",
    "        for i, layers in enumerate(block_layers):\n",
    "            block.append(DenseBlock(channels, growth_rate, layers))\n",
    "            channels += layers * growth_rate\n",
    "            if i != len(block_layers) - 1:\n",
    "                block.append(transition(channels, channels // 2))\n",
    "                channels = channels // 2\n",
    "        self.block2 = nn.Sequential(*block)\n",
    "        self.block2.add_module(\"bn\", nn.BatchNorm2d(channels))\n",
    "        self.block2.add_module(\"relu\", nn.ReLU(True))\n",
    "        self.block2.add_module(\"avg_pool\", nn.AvgPool2d(3))\n",
    "\n",
    "        self.classifier = nn.Linear(channels, num_classes)\n",
    "\n",
    "    def forward(self, x):\n",
    "        x = self.block1(x)\n",
    "        x = self.block2(x)\n",
    "        x = x.view(x.shape[0], -1)\n",
    "        x = self.classifier(x)\n",
    "        return x\n"
   ]
  },
  {
   "cell_type": "code",
   "execution_count": 8,
   "metadata": {},
   "outputs": [
    {
     "name": "stdout",
     "output_type": "stream",
     "text": [
      "output: torch.Size([1, 10])\n"
     ]
    }
   ],
   "source": [
    "test_net = DenseNet(3, 10)\n",
    "test_x = Variable(torch.zeros(1, 3, 96, 96))\n",
    "test_y = test_net(test_x)\n",
    "print('output: {}'.format(test_y.shape))"
   ]
  },
  {
   "cell_type": "code",
   "execution_count": 9,
   "metadata": {},
   "outputs": [],
   "source": [
    "def data_tf(x):\n",
    "    x = x.resize((96, 96), 2)\n",
    "    x = np.array(x, dtype=\"float32\") / 255\n",
    "    x = (x - 0.5) / 0.5\n",
    "    x = x.transpose((2, 0, 1))  # 将 channel 放到第一维，只是 pytorch 要求的输入方式\n",
    "    x = torch.from_numpy(x)\n",
    "    return x"
   ]
  },
  {
   "cell_type": "code",
   "execution_count": 14,
   "metadata": {},
   "outputs": [],
   "source": [
    "train_set = CIFAR10('./data', train=True, transform=data_tf)\n",
    "train_data = torch.utils.data.DataLoader(train_set, batch_size=64, shuffle=True)\n",
    "test_set = CIFAR10(\"./data\", train=False, transform=data_tf)\n",
    "test_data = torch.utils.data.DataLoader(test_set, batch_size=128, shuffle=False)\n",
    "\n",
    "net = DenseNet(3, 10)\n",
    "optimizer = torch.optim.SGD(net.parameters(), lr=1e-2)\n",
    "criterion = nn.CrossEntropyLoss()"
   ]
  },
  {
   "cell_type": "code",
   "execution_count": 15,
   "metadata": {},
   "outputs": [
    {
     "name": "stderr",
     "output_type": "stream",
     "text": [
      "D:\\Workspace\\Samples\\pytorch_lab\\chapter03_cnn\\utils.py:54: UserWarning: volatile was removed and now has no effect. Use `with torch.no_grad():` instead.\n",
      "  im = Variable(im.cuda(), volatile=True)\n",
      "D:\\Workspace\\Samples\\pytorch_lab\\chapter03_cnn\\utils.py:55: UserWarning: volatile was removed and now has no effect. Use `with torch.no_grad():` instead.\n",
      "  label = Variable(label.cuda(), volatile=True)\n"
     ]
    },
    {
     "name": "stdout",
     "output_type": "stream",
     "text": [
      "Epoch 0. Train Loss: 1.368672, Train Acc: 0.509811, Valid Loss: 1.552130, Valid Acc: 0.474585, Time 00:02:23\n",
      "Epoch 1. Train Loss: 0.913808, Train Acc: 0.677330, Valid Loss: 1.135782, Valid Acc: 0.619759, Time 00:02:27\n",
      "Epoch 2. Train Loss: 0.702387, Train Acc: 0.758232, Valid Loss: 0.985468, Valid Acc: 0.667326, Time 00:02:27\n",
      "Epoch 3. Train Loss: 0.572325, Train Acc: 0.801730, Valid Loss: 0.725179, Valid Acc: 0.749011, Time 00:02:27\n",
      "Epoch 4. Train Loss: 0.477660, Train Acc: 0.835997, Valid Loss: 0.862192, Valid Acc: 0.727848, Time 00:02:27\n",
      "Epoch 5. Train Loss: 0.397709, Train Acc: 0.864270, Valid Loss: 0.859988, Valid Acc: 0.716871, Time 00:02:27\n",
      "Epoch 6. Train Loss: 0.340893, Train Acc: 0.883272, Valid Loss: 0.730948, Valid Acc: 0.769976, Time 00:02:27\n",
      "Epoch 7. Train Loss: 0.277668, Train Acc: 0.906450, Valid Loss: 0.903186, Valid Acc: 0.738528, Time 00:02:27\n",
      "Epoch 8. Train Loss: 0.228544, Train Acc: 0.922974, Valid Loss: 0.718776, Valid Acc: 0.782338, Time 00:02:27\n",
      "Epoch 9. Train Loss: 0.181618, Train Acc: 0.938979, Valid Loss: 0.812951, Valid Acc: 0.756824, Time 00:02:27\n",
      "Epoch 10. Train Loss: 0.152366, Train Acc: 0.950008, Valid Loss: 2.112735, Valid Acc: 0.595530, Time 00:02:27\n",
      "Epoch 11. Train Loss: 0.120961, Train Acc: 0.960838, Valid Loss: 0.786537, Valid Acc: 0.787282, Time 00:02:27\n",
      "Epoch 12. Train Loss: 0.094332, Train Acc: 0.968410, Valid Loss: 0.589080, Valid Acc: 0.831487, Time 00:02:27\n",
      "Epoch 13. Train Loss: 0.079082, Train Acc: 0.974205, Valid Loss: 0.671970, Valid Acc: 0.812896, Time 00:02:27\n",
      "Epoch 14. Train Loss: 0.066025, Train Acc: 0.979480, Valid Loss: 0.939106, Valid Acc: 0.763845, Time 00:02:27\n",
      "Epoch 15. Train Loss: 0.063003, Train Acc: 0.979999, Valid Loss: 0.836799, Valid Acc: 0.784810, Time 00:02:27\n",
      "Epoch 16. Train Loss: 0.042403, Train Acc: 0.987472, Valid Loss: 0.579055, Valid Acc: 0.843750, Time 00:02:27\n",
      "Epoch 17. Train Loss: 0.040843, Train Acc: 0.987792, Valid Loss: 2.089490, Valid Acc: 0.587520, Time 00:02:28\n",
      "Epoch 18. Train Loss: 0.046173, Train Acc: 0.985534, Valid Loss: 0.635105, Valid Acc: 0.839794, Time 00:02:27\n",
      "Epoch 19. Train Loss: 0.025519, Train Acc: 0.992407, Valid Loss: 0.636992, Valid Acc: 0.838509, Time 00:02:27\n"
     ]
    }
   ],
   "source": [
    "from utils import train\n",
    "\n",
    "train(net, train_data, test_data, 20, optimizer, criterion)"
   ]
  }
 ],
 "metadata": {
  "kernelspec": {
   "display_name": "Python 3",
   "language": "python",
   "name": "python3"
  },
  "language_info": {
   "codemirror_mode": {
    "name": "ipython",
    "version": 3
   },
   "file_extension": ".py",
   "mimetype": "text/x-python",
   "name": "python",
   "nbconvert_exporter": "python",
   "pygments_lexer": "ipython3",
   "version": "3.6.5"
  }
 },
 "nbformat": 4,
 "nbformat_minor": 2
}
