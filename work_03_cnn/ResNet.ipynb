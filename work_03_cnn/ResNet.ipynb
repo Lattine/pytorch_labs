{
 "cells": [
  {
   "cell_type": "markdown",
   "metadata": {},
   "source": [
    "![](https://camo.githubusercontent.com/cdc7763be321bde0219f2d68ff51a8fc859adaaa/68747470733a2f2f7773312e73696e61696d672e636e2f6c617267652f303036744e6337396c7931666d70747132736e76396a33306a383038743734612e6a7067)"
   ]
  },
  {
   "cell_type": "code",
   "execution_count": 2,
   "metadata": {},
   "outputs": [],
   "source": [
    "import torch\n",
    "import numpy as np\n",
    "from torch import nn\n",
    "from torch.autograd import Variable\n",
    "from torchvision.datasets import CIFAR10\n",
    "import torch.nn.functional as F"
   ]
  },
  {
   "cell_type": "code",
   "execution_count": 3,
   "metadata": {},
   "outputs": [],
   "source": [
    "def conv3x3(in_channel, out_channel, stride=1):\n",
    "    return nn.Conv2d(in_channel, out_channel, 3, stride=stride, padding=1, bias=False)"
   ]
  },
  {
   "cell_type": "code",
   "execution_count": 7,
   "metadata": {},
   "outputs": [],
   "source": [
    "class ResidualBlock(nn.Module):\n",
    "    def __init__(self, in_channel, out_channel, same_shape=True):\n",
    "        super(ResidualBlock, self).__init__()\n",
    "        self.same_shape = same_shape\n",
    "        stride = 1 if self.same_shape else 2\n",
    "\n",
    "        self.conv1 = conv3x3(in_channel, out_channel, stride=stride)\n",
    "        self.bn1 = nn.BatchNorm2d(out_channel)\n",
    "\n",
    "        self.conv2 = conv3x3(out_channel, out_channel)\n",
    "        self.bn2 = nn.BatchNorm2d(out_channel)\n",
    "        if not self.same_shape:\n",
    "            self.conv3 = nn.Conv2d(in_channel, out_channel, 1, stride=stride)\n",
    "\n",
    "    def forward(self, x):\n",
    "        out = self.conv1(x)\n",
    "        out = F.relu(self.bn1(out), True)\n",
    "        out = self.conv2(out)\n",
    "        out = F.relu(self.bn2(out), True)\n",
    "\n",
    "        if not self.same_shape:\n",
    "            x = self.conv3(x)\n",
    "        return F.relu(x + out, True)"
   ]
  },
  {
   "cell_type": "code",
   "execution_count": 8,
   "metadata": {},
   "outputs": [
    {
     "name": "stdout",
     "output_type": "stream",
     "text": [
      "input: torch.Size([1, 32, 96, 96])\n",
      "output: torch.Size([1, 32, 96, 96])\n"
     ]
    }
   ],
   "source": [
    "# 输入输出形状相同\n",
    "test_net = ResidualBlock(32, 32)\n",
    "test_x = Variable(torch.zeros(1, 32, 96, 96))\n",
    "print('input: {}'.format(test_x.shape))\n",
    "test_y = test_net(test_x)\n",
    "print('output: {}'.format(test_y.shape))"
   ]
  },
  {
   "cell_type": "code",
   "execution_count": 9,
   "metadata": {},
   "outputs": [
    {
     "name": "stdout",
     "output_type": "stream",
     "text": [
      "input: torch.Size([1, 3, 96, 96])\n",
      "output: torch.Size([1, 32, 48, 48])\n"
     ]
    }
   ],
   "source": [
    "# 输入输出形状不同\n",
    "test_net = ResidualBlock(3, 32, False)\n",
    "test_x = Variable(torch.zeros(1, 3, 96, 96))\n",
    "print('input: {}'.format(test_x.shape))\n",
    "test_y = test_net(test_x)\n",
    "print('output: {}'.format(test_y.shape))"
   ]
  },
  {
   "cell_type": "code",
   "execution_count": 28,
   "metadata": {},
   "outputs": [],
   "source": [
    "class ResNet(nn.Module):\n",
    "    def __init__(self, in_channel, num_classes, verbose=False):\n",
    "        super(ResNet, self).__init__()\n",
    "        self.verbose = verbose\n",
    "\n",
    "        self.block1 = nn.Conv2d(in_channel, 64, 7, 2)\n",
    "        self.block2 = nn.Sequential(\n",
    "            nn.MaxPool2d(3, 2),\n",
    "            ResidualBlock(64, 64),\n",
    "            ResidualBlock(64, 64)\n",
    "        )\n",
    "        self.block3 = nn.Sequential(\n",
    "            ResidualBlock(64, 128, False),\n",
    "            ResidualBlock(128, 128)\n",
    "        )\n",
    "        self.block4 = nn.Sequential(\n",
    "            ResidualBlock(128, 256, False),\n",
    "            ResidualBlock(256, 256)\n",
    "        )\n",
    "        self.block5 = nn.Sequential(\n",
    "            ResidualBlock(256, 512, False),\n",
    "            ResidualBlock(512, 512),\n",
    "            nn.AvgPool2d(3)\n",
    "        )\n",
    "        self.classifier = nn.Linear(512, num_classes)\n",
    "\n",
    "    def forward(self, x):\n",
    "        x = self.block1(x)\n",
    "        if self.verbose:\n",
    "            print('block 1 output: {}'.format(x.shape))\n",
    "        x = self.block2(x)\n",
    "        if self.verbose:\n",
    "            print('block 2 output: {}'.format(x.shape))\n",
    "        x = self.block3(x)\n",
    "        if self.verbose:\n",
    "            print('block 3 output: {}'.format(x.shape))\n",
    "        x = self.block4(x)\n",
    "        if self.verbose:\n",
    "            print('block 4 output: {}'.format(x.shape))\n",
    "        x = self.block5(x)\n",
    "        if self.verbose:\n",
    "            print('block 5 output: {}'.format(x.shape))\n",
    "        x = x.view(x.shape[0], -1)\n",
    "        x = self.classifier(x)\n",
    "        return x"
   ]
  },
  {
   "cell_type": "code",
   "execution_count": 29,
   "metadata": {},
   "outputs": [
    {
     "name": "stdout",
     "output_type": "stream",
     "text": [
      "block 1 output: torch.Size([1, 64, 45, 45])\n",
      "block 2 output: torch.Size([1, 64, 22, 22])\n",
      "block 3 output: torch.Size([1, 128, 11, 11])\n",
      "block 4 output: torch.Size([1, 256, 6, 6])\n",
      "block 5 output: torch.Size([1, 512, 1, 1])\n",
      "output: torch.Size([1, 10])\n"
     ]
    }
   ],
   "source": [
    "test_net = ResNet(3, 10, True)\n",
    "test_x = Variable(torch.zeros(1, 3, 96, 96))\n",
    "test_y = test_net(test_x)\n",
    "print('output: {}'.format(test_y.shape))"
   ]
  },
  {
   "cell_type": "code",
   "execution_count": 30,
   "metadata": {},
   "outputs": [],
   "source": [
    "def data_tf(x):\n",
    "    x = x.resize((96, 96), 2)  # 将图片放大到 96 x 96\n",
    "    x = np.array(x, dtype='float32') / 255\n",
    "    x = (x - 0.5) / 0.5  # 标准化，这个技巧之后会讲到\n",
    "    x = x.transpose((2, 0, 1))  # 将 channel 放到第一维，只是 pytorch 要求的输入方式\n",
    "    x = torch.from_numpy(x)\n",
    "    return x\n",
    "\n",
    "\n",
    "train_set = CIFAR10('./data', train=True, transform=data_tf)\n",
    "train_data = torch.utils.data.DataLoader(train_set, batch_size=64, shuffle=True)\n",
    "test_set = CIFAR10('./data', train=False, transform=data_tf)\n",
    "test_data = torch.utils.data.DataLoader(test_set, batch_size=128, shuffle=False)"
   ]
  },
  {
   "cell_type": "code",
   "execution_count": 31,
   "metadata": {},
   "outputs": [],
   "source": [
    "net = ResNet(3, 10)\n",
    "optimizer = torch.optim.SGD(net.parameters(), lr=0.01)\n",
    "criterion = nn.CrossEntropyLoss()"
   ]
  },
  {
   "cell_type": "code",
   "execution_count": 32,
   "metadata": {
    "scrolled": true
   },
   "outputs": [
    {
     "name": "stderr",
     "output_type": "stream",
     "text": [
      "D:\\Workspace\\Samples\\pytorch_lab\\chapter03_cnn\\utils.py:54: UserWarning: volatile was removed and now has no effect. Use `with torch.no_grad():` instead.\n",
      "  im = Variable(im.cuda(), volatile=True)\n",
      "D:\\Workspace\\Samples\\pytorch_lab\\chapter03_cnn\\utils.py:55: UserWarning: volatile was removed and now has no effect. Use `with torch.no_grad():` instead.\n",
      "  label = Variable(label.cuda(), volatile=True)\n"
     ]
    },
    {
     "name": "stdout",
     "output_type": "stream",
     "text": [
      "Epoch 0. Train Loss: 1.434181, Train Acc: 0.478061, Valid Loss: 1.687309, Valid Acc: 0.453125, Time 00:00:53\n",
      "Epoch 1. Train Loss: 0.993083, Train Acc: 0.646200, Valid Loss: 1.634796, Valid Acc: 0.462322, Time 00:00:58\n",
      "Epoch 2. Train Loss: 0.772935, Train Acc: 0.730479, Valid Loss: 0.979879, Valid Acc: 0.660799, Time 00:00:58\n",
      "Epoch 3. Train Loss: 0.613819, Train Acc: 0.786845, Valid Loss: 1.261685, Valid Acc: 0.599684, Time 00:00:58\n",
      "Epoch 4. Train Loss: 0.478512, Train Acc: 0.836857, Valid Loss: 1.121621, Valid Acc: 0.646559, Time 00:00:58\n",
      "Epoch 5. Train Loss: 0.364775, Train Acc: 0.874680, Valid Loss: 0.973697, Valid Acc: 0.701839, Time 00:00:59\n",
      "Epoch 6. Train Loss: 0.277485, Train Acc: 0.905591, Valid Loss: 1.949605, Valid Acc: 0.549545, Time 00:00:58\n",
      "Epoch 7. Train Loss: 0.193986, Train Acc: 0.935362, Valid Loss: 1.891139, Valid Acc: 0.560819, Time 00:00:59\n",
      "Epoch 8. Train Loss: 0.142970, Train Acc: 0.952546, Valid Loss: 1.282867, Valid Acc: 0.665150, Time 00:00:58\n",
      "Epoch 9. Train Loss: 0.109398, Train Acc: 0.964754, Valid Loss: 1.069556, Valid Acc: 0.720332, Time 00:00:59\n",
      "Epoch 10. Train Loss: 0.081785, Train Acc: 0.973725, Valid Loss: 1.497996, Valid Acc: 0.673853, Time 00:01:00\n",
      "Epoch 11. Train Loss: 0.062354, Train Acc: 0.980499, Valid Loss: 1.460563, Valid Acc: 0.684533, Time 00:00:59\n",
      "Epoch 12. Train Loss: 0.053832, Train Acc: 0.983376, Valid Loss: 1.387118, Valid Acc: 0.701246, Time 00:00:58\n",
      "Epoch 13. Train Loss: 0.033370, Train Acc: 0.990529, Valid Loss: 0.948092, Valid Acc: 0.772844, Time 00:00:59\n",
      "Epoch 14. Train Loss: 0.031211, Train Acc: 0.990469, Valid Loss: 0.986782, Valid Acc: 0.769185, Time 00:00:59\n",
      "Epoch 15. Train Loss: 0.020496, Train Acc: 0.994106, Valid Loss: 1.283501, Valid Acc: 0.724090, Time 00:00:59\n",
      "Epoch 16. Train Loss: 0.021975, Train Acc: 0.993386, Valid Loss: 0.932342, Valid Acc: 0.783821, Time 00:00:59\n",
      "Epoch 17. Train Loss: 0.016970, Train Acc: 0.995384, Valid Loss: 3.278663, Valid Acc: 0.489023, Time 00:00:59\n",
      "Epoch 18. Train Loss: 0.016284, Train Acc: 0.995624, Valid Loss: 0.939853, Valid Acc: 0.788964, Time 00:00:59\n",
      "Epoch 19. Train Loss: 0.009433, Train Acc: 0.997662, Valid Loss: 1.482483, Valid Acc: 0.697290, Time 00:00:59\n"
     ]
    }
   ],
   "source": [
    "from utils import train\n",
    "\n",
    "train(net, train_data, test_data, 20, optimizer, criterion)"
   ]
  }
 ],
 "metadata": {
  "kernelspec": {
   "display_name": "Python 3",
   "language": "python",
   "name": "python3"
  },
  "language_info": {
   "codemirror_mode": {
    "name": "ipython",
    "version": 3
   },
   "file_extension": ".py",
   "mimetype": "text/x-python",
   "name": "python",
   "nbconvert_exporter": "python",
   "pygments_lexer": "ipython3",
   "version": "3.6.5"
  }
 },
 "nbformat": 4,
 "nbformat_minor": 2
}
