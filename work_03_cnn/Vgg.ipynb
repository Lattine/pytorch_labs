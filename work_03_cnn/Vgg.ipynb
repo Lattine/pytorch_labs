{
 "cells": [
  {
   "cell_type": "markdown",
   "metadata": {},
   "source": [
    "![](https://camo.githubusercontent.com/92de74138720e79fda16c575fac6677e6de9089b/68747470733a2f2f7773342e73696e61696d672e636e2f6c617267652f303036744e6337396c7931666d706b35736d7469646a3330376e3064783379762e6a7067)"
   ]
  },
  {
   "cell_type": "code",
   "execution_count": 1,
   "metadata": {},
   "outputs": [],
   "source": [
    "import torch\n",
    "import numpy as np\n",
    "from torch import nn\n",
    "from torch.autograd import Variable\n",
    "from torchvision.datasets import CIFAR10"
   ]
  },
  {
   "cell_type": "code",
   "execution_count": 2,
   "metadata": {},
   "outputs": [],
   "source": [
    "def vgg_block(num_convs, in_channels, out_channels):\n",
    "    net = [nn.Conv2d(in_channels, out_channels, kernel_size=3, padding=1), nn.ReLU(True)]  # first layer\n",
    "\n",
    "    for i in range(num_convs - 1):\n",
    "        net.append(nn.Conv2d(out_channels, out_channels, kernel_size=3, padding=1))\n",
    "        net.append(nn.ReLU(True))\n",
    "\n",
    "    net.append(nn.MaxPool2d(2, 2))\n",
    "    return nn.Sequential(*net)"
   ]
  },
  {
   "cell_type": "code",
   "execution_count": 3,
   "metadata": {},
   "outputs": [
    {
     "name": "stdout",
     "output_type": "stream",
     "text": [
      "Sequential(\n",
      "  (0): Conv2d(64, 128, kernel_size=(3, 3), stride=(1, 1), padding=(1, 1))\n",
      "  (1): ReLU(inplace)\n",
      "  (2): Conv2d(128, 128, kernel_size=(3, 3), stride=(1, 1), padding=(1, 1))\n",
      "  (3): ReLU(inplace)\n",
      "  (4): Conv2d(128, 128, kernel_size=(3, 3), stride=(1, 1), padding=(1, 1))\n",
      "  (5): ReLU(inplace)\n",
      "  (6): MaxPool2d(kernel_size=2, stride=2, padding=0, dilation=1, ceil_mode=False)\n",
      ")\n"
     ]
    }
   ],
   "source": [
    "block_demo = vgg_block(3, 64, 128)\n",
    "print(block_demo)\n"
   ]
  },
  {
   "cell_type": "code",
   "execution_count": 4,
   "metadata": {},
   "outputs": [
    {
     "name": "stdout",
     "output_type": "stream",
     "text": [
      "torch.Size([1, 128, 150, 150])\n"
     ]
    }
   ],
   "source": [
    "# 首先定义输入为 (1, 64, 300, 300)\n",
    "input_demo = Variable(torch.zeros(1, 64, 300, 300))\n",
    "output_demo = block_demo(input_demo)\n",
    "print(output_demo.shape)"
   ]
  },
  {
   "cell_type": "code",
   "execution_count": 5,
   "metadata": {},
   "outputs": [],
   "source": [
    "def vgg_stack(num_convs, chnnels):\n",
    "    net = []\n",
    "    for n, c in zip(num_convs, chnnels):\n",
    "        in_c = c[0]\n",
    "        out_c = c[1]\n",
    "        net.append(vgg_block(n, in_c, out_c))\n",
    "    return nn.Sequential(*net)"
   ]
  },
  {
   "cell_type": "code",
   "execution_count": 6,
   "metadata": {},
   "outputs": [
    {
     "name": "stdout",
     "output_type": "stream",
     "text": [
      "Sequential(\n",
      "  (0): Sequential(\n",
      "    (0): Conv2d(3, 64, kernel_size=(3, 3), stride=(1, 1), padding=(1, 1))\n",
      "    (1): ReLU(inplace)\n",
      "    (2): MaxPool2d(kernel_size=2, stride=2, padding=0, dilation=1, ceil_mode=False)\n",
      "  )\n",
      "  (1): Sequential(\n",
      "    (0): Conv2d(64, 128, kernel_size=(3, 3), stride=(1, 1), padding=(1, 1))\n",
      "    (1): ReLU(inplace)\n",
      "    (2): MaxPool2d(kernel_size=2, stride=2, padding=0, dilation=1, ceil_mode=False)\n",
      "  )\n",
      "  (2): Sequential(\n",
      "    (0): Conv2d(128, 256, kernel_size=(3, 3), stride=(1, 1), padding=(1, 1))\n",
      "    (1): ReLU(inplace)\n",
      "    (2): Conv2d(256, 256, kernel_size=(3, 3), stride=(1, 1), padding=(1, 1))\n",
      "    (3): ReLU(inplace)\n",
      "    (4): MaxPool2d(kernel_size=2, stride=2, padding=0, dilation=1, ceil_mode=False)\n",
      "  )\n",
      "  (3): Sequential(\n",
      "    (0): Conv2d(256, 512, kernel_size=(3, 3), stride=(1, 1), padding=(1, 1))\n",
      "    (1): ReLU(inplace)\n",
      "    (2): Conv2d(512, 512, kernel_size=(3, 3), stride=(1, 1), padding=(1, 1))\n",
      "    (3): ReLU(inplace)\n",
      "    (4): MaxPool2d(kernel_size=2, stride=2, padding=0, dilation=1, ceil_mode=False)\n",
      "  )\n",
      "  (4): Sequential(\n",
      "    (0): Conv2d(512, 512, kernel_size=(3, 3), stride=(1, 1), padding=(1, 1))\n",
      "    (1): ReLU(inplace)\n",
      "    (2): Conv2d(512, 512, kernel_size=(3, 3), stride=(1, 1), padding=(1, 1))\n",
      "    (3): ReLU(inplace)\n",
      "    (4): MaxPool2d(kernel_size=2, stride=2, padding=0, dilation=1, ceil_mode=False)\n",
      "  )\n",
      ")\n"
     ]
    }
   ],
   "source": [
    "vgg_net = vgg_stack((1, 1, 2, 2, 2), ((3, 64), (64, 128), (128, 256), (256, 512), (512, 512)))\n",
    "print(vgg_net)"
   ]
  },
  {
   "cell_type": "code",
   "execution_count": 7,
   "metadata": {},
   "outputs": [
    {
     "name": "stdout",
     "output_type": "stream",
     "text": [
      "torch.Size([1, 512, 8, 8])\n"
     ]
    }
   ],
   "source": [
    "test_x = Variable(torch.zeros(1, 3, 256, 256))\n",
    "test_y = vgg_net(test_x)\n",
    "print(test_y.shape)"
   ]
  },
  {
   "cell_type": "code",
   "execution_count": 8,
   "metadata": {},
   "outputs": [],
   "source": [
    "class Vgg(nn.Module):\n",
    "    def __init__(self):\n",
    "        super(Vgg, self).__init__()\n",
    "        self.feature = vgg_net\n",
    "        self.fc = nn.Sequential(\n",
    "            nn.Linear(512, 100),\n",
    "            nn.ReLU(True),\n",
    "            nn.Linear(100, 10)\n",
    "        )\n",
    "\n",
    "    def forward(self, x):\n",
    "        x = self.feature(x)\n",
    "        x = x.view(x.shape[0], -1)\n",
    "        x = self.fc(x)\n",
    "        return x\n"
   ]
  },
  {
   "cell_type": "code",
   "execution_count": 9,
   "metadata": {},
   "outputs": [],
   "source": [
    "def data_tf(x):\n",
    "    x = np.array(x, dtype='float32') / 255\n",
    "    x = (x - 0.5) / 0.5  # 标准化，这个技巧之后会讲到\n",
    "    x = x.transpose((2, 0, 1))  # 将 channel 放到第一维，只是 pytorch 要求的输入方式\n",
    "    x = torch.from_numpy(x)\n",
    "    return x\n"
   ]
  },
  {
   "cell_type": "code",
   "execution_count": 10,
   "metadata": {},
   "outputs": [],
   "source": [
    "train_set = CIFAR10('./data', train=True, transform=data_tf)\n",
    "train_data = torch.utils.data.DataLoader(train_set, batch_size=64, shuffle=True)\n",
    "test_set = CIFAR10('./data', train=False, transform=data_tf)\n",
    "test_data = torch.utils.data.DataLoader(test_set, batch_size=128, shuffle=False)"
   ]
  },
  {
   "cell_type": "code",
   "execution_count": 11,
   "metadata": {},
   "outputs": [],
   "source": [
    "net = Vgg()\n",
    "optimizer = torch.optim.SGD(net.parameters(), lr=1e-1)\n",
    "criterion = nn.CrossEntropyLoss()"
   ]
  },
  {
   "cell_type": "code",
   "execution_count": 12,
   "metadata": {},
   "outputs": [
    {
     "name": "stderr",
     "output_type": "stream",
     "text": [
      "D:\\Workspace\\Samples\\pytorch_lab\\chapter03_cnn\\utils.py:54: UserWarning: volatile was removed and now has no effect. Use `with torch.no_grad():` instead.\n",
      "  im = Variable(im.cuda(), volatile=True)\n",
      "D:\\Workspace\\Samples\\pytorch_lab\\chapter03_cnn\\utils.py:55: UserWarning: volatile was removed and now has no effect. Use `with torch.no_grad():` instead.\n",
      "  label = Variable(label.cuda(), volatile=True)\n"
     ]
    },
    {
     "name": "stdout",
     "output_type": "stream",
     "text": [
      "Epoch 0. Train Loss: 2.303118, Train Acc: 0.099764, Valid Loss: 2.302887, Valid Acc: 0.100969, Time 00:00:45\n",
      "Epoch 1. Train Loss: 2.303010, Train Acc: 0.098346, Valid Loss: 2.302510, Valid Acc: 0.098892, Time 00:00:49\n",
      "Epoch 2. Train Loss: 2.266638, Train Acc: 0.128517, Valid Loss: 2.263254, Valid Acc: 0.165546, Time 00:00:39\n",
      "Epoch 3. Train Loss: 1.932595, Train Acc: 0.243906, Valid Loss: 1.794690, Valid Acc: 0.303105, Time 00:00:39\n",
      "Epoch 4. Train Loss: 1.692693, Train Acc: 0.342571, Valid Loss: 1.763555, Valid Acc: 0.355320, Time 00:00:39\n",
      "Epoch 5. Train Loss: 1.473339, Train Acc: 0.445752, Valid Loss: 1.585759, Valid Acc: 0.438588, Time 00:00:39\n",
      "Epoch 6. Train Loss: 1.262603, Train Acc: 0.538303, Valid Loss: 1.636224, Valid Acc: 0.454213, Time 00:00:39\n",
      "Epoch 7. Train Loss: 1.067181, Train Acc: 0.616868, Valid Loss: 1.198231, Valid Acc: 0.568730, Time 00:00:39\n",
      "Epoch 8. Train Loss: 0.886475, Train Acc: 0.684163, Valid Loss: 1.444764, Valid Acc: 0.552215, Time 00:00:39\n",
      "Epoch 9. Train Loss: 0.745353, Train Acc: 0.737752, Valid Loss: 0.886823, Valid Acc: 0.698279, Time 00:00:39\n",
      "Epoch 10. Train Loss: 0.614582, Train Acc: 0.785666, Valid Loss: 0.811978, Valid Acc: 0.738627, Time 00:00:39\n",
      "Epoch 11. Train Loss: 0.508737, Train Acc: 0.820912, Valid Loss: 0.851390, Valid Acc: 0.733287, Time 00:00:39\n",
      "Epoch 12. Train Loss: 0.413349, Train Acc: 0.855619, Valid Loss: 0.779956, Valid Acc: 0.747627, Time 00:00:39\n",
      "Epoch 13. Train Loss: 0.328650, Train Acc: 0.887348, Valid Loss: 0.931326, Valid Acc: 0.720332, Time 00:00:39\n",
      "Epoch 14. Train Loss: 0.258992, Train Acc: 0.911145, Valid Loss: 0.851257, Valid Acc: 0.754351, Time 00:00:39\n",
      "Epoch 15. Train Loss: 0.202985, Train Acc: 0.930766, Valid Loss: 1.021928, Valid Acc: 0.750494, Time 00:00:39\n",
      "Epoch 16. Train Loss: 0.162541, Train Acc: 0.943614, Valid Loss: 1.070321, Valid Acc: 0.745451, Time 00:00:39\n",
      "Epoch 17. Train Loss: 0.133512, Train Acc: 0.954404, Valid Loss: 0.993417, Valid Acc: 0.767207, Time 00:00:39\n",
      "Epoch 18. Train Loss: 0.105317, Train Acc: 0.963935, Valid Loss: 0.981513, Valid Acc: 0.777690, Time 00:00:39\n",
      "Epoch 19. Train Loss: 0.083274, Train Acc: 0.972127, Valid Loss: 1.141372, Valid Acc: 0.772350, Time 00:00:39\n"
     ]
    }
   ],
   "source": [
    "from utils import train\n",
    "\n",
    "train(net, train_data, test_data, 20, optimizer, criterion)"
   ]
  }
 ],
 "metadata": {
  "kernelspec": {
   "display_name": "Python 3",
   "language": "python",
   "name": "python3"
  },
  "language_info": {
   "codemirror_mode": {
    "name": "ipython",
    "version": 3
   },
   "file_extension": ".py",
   "mimetype": "text/x-python",
   "name": "python",
   "nbconvert_exporter": "python",
   "pygments_lexer": "ipython3",
   "version": "3.6.5"
  }
 },
 "nbformat": 4,
 "nbformat_minor": 2
}
