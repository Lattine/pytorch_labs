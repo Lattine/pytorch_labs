{
 "cells": [
  {
   "cell_type": "code",
   "execution_count": 1,
   "metadata": {},
   "outputs": [],
   "source": [
    "import torch\n",
    "import numpy as np\n",
    "from torchvision.datasets import mnist\n",
    "from torch import nn\n",
    "from torch.autograd import Variable\n",
    "from torch.utils.data import DataLoader"
   ]
  },
  {
   "cell_type": "code",
   "execution_count": 2,
   "metadata": {},
   "outputs": [],
   "source": [
    "def data_tf(x):\n",
    "    x = np.array(x, dtype=\"float32\") / 255\n",
    "    x = (x - 0.5) / 0.5  # 标准化\n",
    "    x = x.reshape((-1,))\n",
    "    x = torch.from_numpy(x)\n",
    "    return x"
   ]
  },
  {
   "cell_type": "code",
   "execution_count": 5,
   "metadata": {},
   "outputs": [
    {
     "name": "stdout",
     "output_type": "stream",
     "text": [
      "torch.Size([784]) tensor(5)\n"
     ]
    }
   ],
   "source": [
    "# train_set = mnist.MNIST(\"./data\", train=True, download=True)\n",
    "train_set = mnist.MNIST(\"./data\", train=True, transform=data_tf, download=True)  # 定义的数据变换\n",
    "test_set = mnist.MNIST(\"./data\", train=False, transform=data_tf, download=True)\n",
    "a, a_label = train_set[0]\n",
    "print(a.shape, a_label)"
   ]
  },
  {
   "cell_type": "code",
   "execution_count": 6,
   "metadata": {},
   "outputs": [
    {
     "name": "stdout",
     "output_type": "stream",
     "text": [
      "torch.Size([64, 784])\n",
      "torch.Size([64])\n"
     ]
    }
   ],
   "source": [
    "# 使用 pytorch 自带的 DataLoader 定义一个数据迭代器\n",
    "train_data = DataLoader(train_set, batch_size=64, shuffle=True)\n",
    "test_data = DataLoader(test_set, batch_size=128, shuffle=False)\n",
    "a, a_label = next(iter(train_data))\n",
    "print(a.shape)\n",
    "print(a_label.shape)"
   ]
  },
  {
   "cell_type": "code",
   "execution_count": 7,
   "metadata": {},
   "outputs": [
    {
     "name": "stdout",
     "output_type": "stream",
     "text": [
      "Sequential(\n",
      "  (0): Linear(in_features=784, out_features=400, bias=True)\n",
      "  (1): ReLU()\n",
      "  (2): Linear(in_features=400, out_features=200, bias=True)\n",
      "  (3): ReLU()\n",
      "  (4): Linear(in_features=200, out_features=100, bias=True)\n",
      "  (5): ReLU()\n",
      "  (6): Linear(in_features=100, out_features=10, bias=True)\n",
      ")\n"
     ]
    }
   ],
   "source": [
    "# 使用 Sequential 定义 4 层神经网络\n",
    "net = nn.Sequential(\n",
    "    nn.Linear(784, 400),\n",
    "    nn.ReLU(),\n",
    "    nn.Linear(400, 200),\n",
    "    nn.ReLU(),\n",
    "    nn.Linear(200, 100),\n",
    "    nn.ReLU(),\n",
    "    nn.Linear(100, 10)\n",
    ")\n",
    "print(net)"
   ]
  },
  {
   "cell_type": "code",
   "execution_count": 8,
   "metadata": {},
   "outputs": [],
   "source": [
    "# 定义 loss 函数\n",
    "criterion = nn.CrossEntropyLoss()\n",
    "optimizer = torch.optim.SGD(net.parameters(), 1e-1)  # 使用随机梯度下降，学习率 0.1"
   ]
  },
  {
   "cell_type": "code",
   "execution_count": 9,
   "metadata": {},
   "outputs": [
    {
     "name": "stdout",
     "output_type": "stream",
     "text": [
      "epoch: 0, Train Loss: 0.518944, Train Acc: 0.833622, Eval Loss: 0.176652, Eval Acc: 0.943236\n",
      "epoch: 1, Train Loss: 0.169947, Train Acc: 0.947278, Eval Loss: 0.194199, Eval Acc: 0.939280\n",
      "epoch: 2, Train Loss: 0.115728, Train Acc: 0.964053, Eval Loss: 0.136583, Eval Acc: 0.953817\n",
      "epoch: 3, Train Loss: 0.089367, Train Acc: 0.972182, Eval Loss: 0.093440, Eval Acc: 0.970233\n",
      "epoch: 4, Train Loss: 0.073064, Train Acc: 0.977595, Eval Loss: 0.076913, Eval Acc: 0.974288\n",
      "epoch: 5, Train Loss: 0.061584, Train Acc: 0.980844, Eval Loss: 0.096625, Eval Acc: 0.968453\n",
      "epoch: 6, Train Loss: 0.053268, Train Acc: 0.983209, Eval Loss: 0.097904, Eval Acc: 0.970728\n",
      "epoch: 7, Train Loss: 0.043663, Train Acc: 0.985941, Eval Loss: 0.076058, Eval Acc: 0.975969\n",
      "epoch: 8, Train Loss: 0.038902, Train Acc: 0.987340, Eval Loss: 0.364998, Eval Acc: 0.901009\n",
      "epoch: 9, Train Loss: 0.033776, Train Acc: 0.988923, Eval Loss: 0.078837, Eval Acc: 0.976365\n",
      "epoch: 10, Train Loss: 0.029461, Train Acc: 0.989972, Eval Loss: 0.070230, Eval Acc: 0.979331\n",
      "epoch: 11, Train Loss: 0.025409, Train Acc: 0.991338, Eval Loss: 0.073119, Eval Acc: 0.979233\n",
      "epoch: 12, Train Loss: 0.020511, Train Acc: 0.992954, Eval Loss: 0.082868, Eval Acc: 0.977848\n",
      "epoch: 13, Train Loss: 0.019742, Train Acc: 0.993553, Eval Loss: 0.066460, Eval Acc: 0.982100\n",
      "epoch: 14, Train Loss: 0.017747, Train Acc: 0.994186, Eval Loss: 0.101146, Eval Acc: 0.970926\n",
      "epoch: 15, Train Loss: 0.016796, Train Acc: 0.994536, Eval Loss: 0.069539, Eval Acc: 0.981507\n",
      "epoch: 16, Train Loss: 0.015291, Train Acc: 0.994853, Eval Loss: 0.079742, Eval Acc: 0.979925\n",
      "epoch: 17, Train Loss: 0.011461, Train Acc: 0.996402, Eval Loss: 0.080360, Eval Acc: 0.979727\n",
      "epoch: 18, Train Loss: 0.111997, Train Acc: 0.975247, Eval Loss: 0.073674, Eval Acc: 0.977650\n",
      "epoch: 19, Train Loss: 0.030534, Train Acc: 0.989456, Eval Loss: 0.072838, Eval Acc: 0.979035\n"
     ]
    }
   ],
   "source": [
    "# 开始训练\n",
    "losses = []\n",
    "acces = []\n",
    "eval_losses = []\n",
    "eval_acces = []\n",
    "\n",
    "for e in range(20):\n",
    "    train_loss = 0\n",
    "    train_acc = 0\n",
    "    net.train()\n",
    "    for im, label in train_data:\n",
    "        im = Variable(im)\n",
    "        label = Variable(label)\n",
    "        out = net(im)  # 前向传播\n",
    "        loss = criterion(out, label)\n",
    "        optimizer.zero_grad()  # 反向传播\n",
    "        loss.backward()\n",
    "        optimizer.step()\n",
    "        train_loss += loss.item()  # 记录误差\n",
    "        _, pred = out.max(1)  # 计算分类的准确率\n",
    "        a_t = pred == label\n",
    "        num_correct = (pred == label).sum().item()\n",
    "        acc = num_correct / im.shape[0]\n",
    "        train_acc += acc\n",
    "    losses.append(train_loss / len(train_data))\n",
    "    acces.append(train_acc / len(train_data))\n",
    "\n",
    "    # 在测试集上检验效果\n",
    "    eval_loss = 0\n",
    "    eval_acc = 0\n",
    "    net.eval()  # 将模型改为预测模式\n",
    "    for im, label in test_data:\n",
    "        im = Variable(im)\n",
    "        label = Variable(label)\n",
    "        out = net(im)\n",
    "        loss = criterion(out, label)\n",
    "        eval_loss += loss.item()\n",
    "        _, pred = out.max(1)\n",
    "        num_correct = (pred == label).sum().item()\n",
    "        acc = num_correct / im.shape[0]\n",
    "        eval_acc += acc\n",
    "\n",
    "    eval_losses.append(eval_loss / len(test_data))\n",
    "    eval_acces.append(eval_acc / len(test_data))\n",
    "    print('epoch: {}, Train Loss: {:.6f}, Train Acc: {:.6f}, Eval Loss: {:.6f}, Eval Acc: {:.6f}'\n",
    "          .format(e, train_loss / len(train_data), train_acc / len(train_data),\n",
    "                  eval_loss / len(test_data), eval_acc / len(test_data)))"
   ]
  },
  {
   "cell_type": "code",
   "execution_count": 10,
   "metadata": {},
   "outputs": [],
   "source": [
    "import matplotlib.pyplot as plt\n",
    "%matplotlib inline"
   ]
  },
  {
   "cell_type": "code",
   "execution_count": 11,
   "metadata": {},
   "outputs": [
    {
     "data": {
      "image/png": "[encoded data removed]",
      "text/plain": [
       "<Figure size 432x288 with 1 Axes>"
      ]
     },
     "metadata": {},
     "output_type": "display_data"
    }
   ],
   "source": [
    "plt.title('train loss')\n",
    "plt.plot(np.arange(len(losses)), losses)\n",
    "plt.show()"
   ]
  },
  {
   "cell_type": "code",
   "execution_count": 16,
   "metadata": {},
   "outputs": [
    {
     "name": "stdout",
     "output_type": "stream",
     "text": [
      "Oct 24 2018 10:03:16\n"
     ]
    }
   ],
   "source": [
    "import time\n",
    "print(time.strftime(\"%b %d %Y %H:%M:%S\", time.gmtime(time.time())))"
   ]
  }
 ],
 "metadata": {
  "kernelspec": {
   "display_name": "Python 3",
   "language": "python",
   "name": "python3"
  },
  "language_info": {
   "codemirror_mode": {
    "name": "ipython",
    "version": 3
   },
   "file_extension": ".py",
   "mimetype": "text/x-python",
   "name": "python",
   "nbconvert_exporter": "python",
   "pygments_lexer": "ipython3",
   "version": "3.6.5"
  }
 },
 "nbformat": 4,
 "nbformat_minor": 2
}
